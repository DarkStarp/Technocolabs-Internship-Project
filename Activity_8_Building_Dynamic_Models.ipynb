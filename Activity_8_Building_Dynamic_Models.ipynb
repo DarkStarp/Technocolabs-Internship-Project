{
 "cells": [
  {
   "cell_type": "markdown",
   "metadata": {},
   "source": [
    "# Activity 8: Re-training a model dynamically\n",
    "In this activity, we re-train our model every time new data is available.\n",
    "\n",
    "First, we start by importing `cryptonic`. Cryptonic is a simple software application developed for this course that implements all the steps up to this section using Python classes and modules. Consider Cryptonic a template on how you could develop similar applications."
   ]
  },
  {
   "cell_type": "code",
   "execution_count": 4,
   "metadata": {},
   "outputs": [
    {
     "data": {
      "application/javascript": [
       "IPython.notebook.set_autosave_interval(5000)"
      ]
     },
     "metadata": {},
     "output_type": "display_data"
    },
    {
     "name": "stdout",
     "output_type": "stream",
     "text": [
      "Autosaving every 5 seconds\n"
     ]
    }
   ],
   "source": [
    "from cryptonic import Model\n",
    "from cryptonic import CoinMarketCap\n",
    "from cryptonic.models import normalizations\n",
    "import pandas as pd\n",
    "from tqdm import tqdm_notebook\n",
    "from datetime import datetime\n",
    "%autosave 5\n",
    "%matplotlib inline"
   ]
  },
  {
   "cell_type": "markdown",
   "metadata": {},
   "source": [
    "## Fetching Real-time Data\n",
    "Throughout this project we have been using data originally provided by [CoinMarketCat](https://coinmarketcap.com/). We have created an interface for collecting both real-time and historical data as as part of `cryptonic`: the class `CoinMarketCap()`."
   ]
  },
  {
   "cell_type": "code",
   "execution_count": 5,
   "metadata": {},
   "outputs": [
    {
     "name": "stdout",
     "output_type": "stream",
     "text": [
      "\n",
      "\n",
      "        Crypto-currency data comes from the website CoinMarketCap.\n",
      "        CoinMarketCap is can be accessed at: https://coinmarketcap.com/\n",
      "\n",
      "        The permission to use the data is available on their FAQ\n",
      "\n",
      "            https://coinmarketcap.com/faq/\n",
      "\n",
      "        and reads:\n",
      "\n",
      "            \"Q: Am I allowed to use content (screenshots, data, graphs, etc.) \n",
      "            for one of my personal projects and/or commercial use?\n",
      "\n",
      "            R: Absolutely! Feel free to use any content as you see fit. \n",
      "            We kindly ask that you cite us as a source.\"\n",
      "        \n",
      "        \n"
     ]
    }
   ],
   "source": [
    "print(CoinMarketCap())"
   ]
  },
  {
   "cell_type": "markdown",
   "metadata": {},
   "source": [
    "Our model is designed to work with daily data. Let's go ahead and collect historic daily data from CoinMarketCap (this is the same data used previously)."
   ]
  },
  {
   "cell_type": "code",
   "execution_count": 6,
   "metadata": {
    "scrolled": false
   },
   "outputs": [
    {
     "name": "stdout",
     "output_type": "stream",
     "text": [
      "<class 'pandas.core.frame.DataFrame'>\n",
      "RangeIndex: 213 entries, 0 to 212\n",
      "Data columns (total 7 columns):\n",
      " #   Column      Non-Null Count  Dtype  \n",
      "---  ------      --------------  -----  \n",
      " 0   date        213 non-null    object \n",
      " 1   open        213 non-null    float64\n",
      " 2   high        213 non-null    float64\n",
      " 3   low         213 non-null    float64\n",
      " 4   close       213 non-null    float64\n",
      " 5   volume      213 non-null    object \n",
      " 6   market cap  213 non-null    object \n",
      "dtypes: float64(4), object(3)\n",
      "memory usage: 11.8+ KB\n"
     ]
    },
    {
     "data": {
      "text/html": [
       "<div>\n",
       "<style scoped>\n",
       "    .dataframe tbody tr th:only-of-type {\n",
       "        vertical-align: middle;\n",
       "    }\n",
       "\n",
       "    .dataframe tbody tr th {\n",
       "        vertical-align: top;\n",
       "    }\n",
       "\n",
       "    .dataframe thead th {\n",
       "        text-align: right;\n",
       "    }\n",
       "</style>\n",
       "<table border=\"1\" class=\"dataframe\">\n",
       "  <thead>\n",
       "    <tr style=\"text-align: right;\">\n",
       "      <th></th>\n",
       "      <th>date</th>\n",
       "      <th>open</th>\n",
       "      <th>high</th>\n",
       "      <th>low</th>\n",
       "      <th>close</th>\n",
       "      <th>volume</th>\n",
       "      <th>market cap</th>\n",
       "    </tr>\n",
       "  </thead>\n",
       "  <tbody>\n",
       "    <tr>\n",
       "      <th>0</th>\n",
       "      <td>2018-02-20</td>\n",
       "      <td>1543.27</td>\n",
       "      <td>1569.03</td>\n",
       "      <td>1414.35</td>\n",
       "      <td>1418.73</td>\n",
       "      <td>820,947,000</td>\n",
       "      <td>26,199,800,000</td>\n",
       "    </tr>\n",
       "    <tr>\n",
       "      <th>1</th>\n",
       "      <td>2018-02-19</td>\n",
       "      <td>1483.34</td>\n",
       "      <td>1553.81</td>\n",
       "      <td>1483.34</td>\n",
       "      <td>1534.77</td>\n",
       "      <td>578,906,000</td>\n",
       "      <td>25,179,700,000</td>\n",
       "    </tr>\n",
       "    <tr>\n",
       "      <th>2</th>\n",
       "      <td>2018-02-18</td>\n",
       "      <td>1552.10</td>\n",
       "      <td>1641.40</td>\n",
       "      <td>1428.49</td>\n",
       "      <td>1487.46</td>\n",
       "      <td>907,873,000</td>\n",
       "      <td>26,344,200,000</td>\n",
       "    </tr>\n",
       "    <tr>\n",
       "      <th>3</th>\n",
       "      <td>2018-02-17</td>\n",
       "      <td>1548.48</td>\n",
       "      <td>1568.64</td>\n",
       "      <td>1517.14</td>\n",
       "      <td>1551.39</td>\n",
       "      <td>641,719,000</td>\n",
       "      <td>26,280,100,000</td>\n",
       "    </tr>\n",
       "    <tr>\n",
       "      <th>4</th>\n",
       "      <td>2018-02-16</td>\n",
       "      <td>1373.16</td>\n",
       "      <td>1558.66</td>\n",
       "      <td>1369.68</td>\n",
       "      <td>1552.20</td>\n",
       "      <td>961,010,000</td>\n",
       "      <td>23,302,000,000</td>\n",
       "    </tr>\n",
       "    <tr>\n",
       "      <th>...</th>\n",
       "      <td>...</td>\n",
       "      <td>...</td>\n",
       "      <td>...</td>\n",
       "      <td>...</td>\n",
       "      <td>...</td>\n",
       "      <td>...</td>\n",
       "      <td>...</td>\n",
       "    </tr>\n",
       "    <tr>\n",
       "      <th>208</th>\n",
       "      <td>2017-07-27</td>\n",
       "      <td>417.10</td>\n",
       "      <td>460.97</td>\n",
       "      <td>367.78</td>\n",
       "      <td>385.48</td>\n",
       "      <td>533,207</td>\n",
       "      <td>-</td>\n",
       "    </tr>\n",
       "    <tr>\n",
       "      <th>209</th>\n",
       "      <td>2017-07-26</td>\n",
       "      <td>407.08</td>\n",
       "      <td>486.16</td>\n",
       "      <td>321.79</td>\n",
       "      <td>365.82</td>\n",
       "      <td>1,784,640</td>\n",
       "      <td>-</td>\n",
       "    </tr>\n",
       "    <tr>\n",
       "      <th>210</th>\n",
       "      <td>2017-07-25</td>\n",
       "      <td>441.35</td>\n",
       "      <td>541.66</td>\n",
       "      <td>338.09</td>\n",
       "      <td>406.90</td>\n",
       "      <td>524,908</td>\n",
       "      <td>-</td>\n",
       "    </tr>\n",
       "    <tr>\n",
       "      <th>211</th>\n",
       "      <td>2017-07-24</td>\n",
       "      <td>412.58</td>\n",
       "      <td>578.89</td>\n",
       "      <td>409.21</td>\n",
       "      <td>440.70</td>\n",
       "      <td>190,952</td>\n",
       "      <td>-</td>\n",
       "    </tr>\n",
       "    <tr>\n",
       "      <th>212</th>\n",
       "      <td>2017-07-23</td>\n",
       "      <td>555.89</td>\n",
       "      <td>578.97</td>\n",
       "      <td>411.78</td>\n",
       "      <td>413.06</td>\n",
       "      <td>85,013</td>\n",
       "      <td>-</td>\n",
       "    </tr>\n",
       "  </tbody>\n",
       "</table>\n",
       "<p>213 rows × 7 columns</p>\n",
       "</div>"
      ],
      "text/plain": [
       "           date     open     high      low    close       volume  \\\n",
       "0    2018-02-20  1543.27  1569.03  1414.35  1418.73  820,947,000   \n",
       "1    2018-02-19  1483.34  1553.81  1483.34  1534.77  578,906,000   \n",
       "2    2018-02-18  1552.10  1641.40  1428.49  1487.46  907,873,000   \n",
       "3    2018-02-17  1548.48  1568.64  1517.14  1551.39  641,719,000   \n",
       "4    2018-02-16  1373.16  1558.66  1369.68  1552.20  961,010,000   \n",
       "..          ...      ...      ...      ...      ...          ...   \n",
       "208  2017-07-27   417.10   460.97   367.78   385.48      533,207   \n",
       "209  2017-07-26   407.08   486.16   321.79   365.82    1,784,640   \n",
       "210  2017-07-25   441.35   541.66   338.09   406.90      524,908   \n",
       "211  2017-07-24   412.58   578.89   409.21   440.70      190,952   \n",
       "212  2017-07-23   555.89   578.97   411.78   413.06       85,013   \n",
       "\n",
       "         market cap  \n",
       "0    26,199,800,000  \n",
       "1    25,179,700,000  \n",
       "2    26,344,200,000  \n",
       "3    26,280,100,000  \n",
       "4    23,302,000,000  \n",
       "..              ...  \n",
       "208               -  \n",
       "209               -  \n",
       "210               -  \n",
       "211               -  \n",
       "212               -  \n",
       "\n",
       "[213 rows x 7 columns]"
      ]
     },
     "execution_count": 6,
     "metadata": {},
     "output_type": "execute_result"
    }
   ],
   "source": [
    "historic_data = pd.read_csv('bitcoin_cash_price.csv')\n",
    "historic_data.columns = historic_data.columns.str.lower()\n",
    "historic_data['date'] = historic_data['date'].apply(lambda x: datetime.strptime(x, '%b %d, %Y').strftime('%Y-%m-%d'))\n",
    "historic_data.info()\n",
    "historic_data"
   ]
  },
  {
   "cell_type": "markdown",
   "metadata": {},
   "source": [
    "The data contains practically the same variables from our earlier dataset. However, much of the data comes from an earlier period. Recent Bitcoin prices have gained a lot of volatility if compared to the prices of a few years ago. Before using this data in our model, let's make sure to filter it to dates after January 1, 2017."
   ]
  },
  {
   "cell_type": "code",
   "execution_count": 7,
   "metadata": {
    "eid": "0ff8fe",
    "scrolled": false
   },
   "outputs": [],
   "source": [
    "model_data=historic_data"
   ]
  },
  {
   "cell_type": "markdown",
   "metadata": {},
   "source": [
    "## The `Model()` Class\n",
    "We have also created the class `Model()` which compiles all the code we have written so far. We will use that class to build, train, and evaluate our model."
   ]
  },
  {
   "cell_type": "code",
   "execution_count": 8,
   "metadata": {},
   "outputs": [],
   "source": [
    "M = Model(data=model_data,\n",
    "          variable='close',\n",
    "          predicted_period_size=7)"
   ]
  },
  {
   "cell_type": "code",
   "execution_count": 9,
   "metadata": {},
   "outputs": [
    {
     "data": {
      "text/plain": [
       "<tensorflow.python.keras.engine.sequential.Sequential at 0x7f9e78237280>"
      ]
     },
     "execution_count": 9,
     "metadata": {},
     "output_type": "execute_result"
    }
   ],
   "source": [
    "M.build()"
   ]
  },
  {
   "cell_type": "code",
   "execution_count": 10,
   "metadata": {
    "scrolled": true
   },
   "outputs": [
    {
     "name": "stdout",
     "output_type": "stream",
     "text": [
      "Epoch 1/100\n",
      "1/1 [==============================] - 0s 883us/step - loss: 0.0089\n",
      "Epoch 2/100\n",
      "1/1 [==============================] - 0s 679us/step - loss: 0.0079\n",
      "Epoch 3/100\n",
      "1/1 [==============================] - 0s 1ms/step - loss: 0.0074\n",
      "Epoch 4/100\n",
      "1/1 [==============================] - 0s 1ms/step - loss: 0.0069\n",
      "Epoch 5/100\n",
      "1/1 [==============================] - 0s 2ms/step - loss: 0.0066\n",
      "Epoch 6/100\n",
      "1/1 [==============================] - 0s 939us/step - loss: 0.0063\n",
      "Epoch 7/100\n",
      "1/1 [==============================] - 0s 925us/step - loss: 0.0060\n",
      "Epoch 8/100\n",
      "1/1 [==============================] - 0s 922us/step - loss: 0.0057\n",
      "Epoch 9/100\n",
      "1/1 [==============================] - 0s 844us/step - loss: 0.0055\n",
      "Epoch 10/100\n",
      "1/1 [==============================] - 0s 1ms/step - loss: 0.0053\n",
      "Epoch 11/100\n",
      "1/1 [==============================] - 0s 872us/step - loss: 0.0051\n",
      "Epoch 12/100\n",
      "1/1 [==============================] - 0s 844us/step - loss: 0.0049\n",
      "Epoch 13/100\n",
      "1/1 [==============================] - 0s 792us/step - loss: 0.0047\n",
      "Epoch 14/100\n",
      "1/1 [==============================] - 0s 1ms/step - loss: 0.0045\n",
      "Epoch 15/100\n",
      "1/1 [==============================] - 0s 716us/step - loss: 0.0043\n",
      "Epoch 16/100\n",
      "1/1 [==============================] - 0s 886us/step - loss: 0.0041\n",
      "Epoch 17/100\n",
      "1/1 [==============================] - 0s 1ms/step - loss: 0.0040\n",
      "Epoch 18/100\n",
      "1/1 [==============================] - 0s 846us/step - loss: 0.0038\n",
      "Epoch 19/100\n",
      "1/1 [==============================] - 0s 782us/step - loss: 0.0037\n",
      "Epoch 20/100\n",
      "1/1 [==============================] - 0s 1ms/step - loss: 0.0035\n",
      "Epoch 21/100\n",
      "1/1 [==============================] - 0s 974us/step - loss: 0.0034\n",
      "Epoch 22/100\n",
      "1/1 [==============================] - 0s 1ms/step - loss: 0.0032\n",
      "Epoch 23/100\n",
      "1/1 [==============================] - 0s 962us/step - loss: 0.0031\n",
      "Epoch 24/100\n",
      "1/1 [==============================] - 0s 850us/step - loss: 0.0030\n",
      "Epoch 25/100\n",
      "1/1 [==============================] - 0s 885us/step - loss: 0.0028\n",
      "Epoch 26/100\n",
      "1/1 [==============================] - 0s 899us/step - loss: 0.0027\n",
      "Epoch 27/100\n",
      "1/1 [==============================] - 0s 992us/step - loss: 0.0026\n",
      "Epoch 28/100\n",
      "1/1 [==============================] - 0s 1ms/step - loss: 0.0025\n",
      "Epoch 29/100\n",
      "1/1 [==============================] - 0s 1ms/step - loss: 0.0024\n",
      "Epoch 30/100\n",
      "1/1 [==============================] - 0s 1ms/step - loss: 0.0022\n",
      "Epoch 31/100\n",
      "1/1 [==============================] - 0s 1ms/step - loss: 0.0021\n",
      "Epoch 32/100\n",
      "1/1 [==============================] - 0s 871us/step - loss: 0.0020\n",
      "Epoch 33/100\n",
      "1/1 [==============================] - 0s 990us/step - loss: 0.0019\n",
      "Epoch 34/100\n",
      "1/1 [==============================] - 0s 892us/step - loss: 0.0018\n",
      "Epoch 35/100\n",
      "1/1 [==============================] - 0s 1ms/step - loss: 0.0017\n",
      "Epoch 36/100\n",
      "1/1 [==============================] - 0s 1ms/step - loss: 0.0017\n",
      "Epoch 37/100\n",
      "1/1 [==============================] - 0s 2ms/step - loss: 0.0016\n",
      "Epoch 38/100\n",
      "1/1 [==============================] - 0s 1ms/step - loss: 0.0015\n",
      "Epoch 39/100\n",
      "1/1 [==============================] - 0s 878us/step - loss: 0.0014\n",
      "Epoch 40/100\n",
      "1/1 [==============================] - 0s 1ms/step - loss: 0.0013\n",
      "Epoch 41/100\n",
      "1/1 [==============================] - 0s 970us/step - loss: 0.0012\n",
      "Epoch 42/100\n",
      "1/1 [==============================] - 0s 900us/step - loss: 0.0012\n",
      "Epoch 43/100\n",
      "1/1 [==============================] - 0s 890us/step - loss: 0.0011\n",
      "Epoch 44/100\n",
      "1/1 [==============================] - 0s 847us/step - loss: 0.0010\n",
      "Epoch 45/100\n",
      "1/1 [==============================] - 0s 870us/step - loss: 9.6664e-04\n",
      "Epoch 46/100\n",
      "1/1 [==============================] - 0s 2ms/step - loss: 9.0293e-04\n",
      "Epoch 47/100\n",
      "1/1 [==============================] - 0s 1ms/step - loss: 8.4169e-04\n",
      "Epoch 48/100\n",
      "1/1 [==============================] - 0s 975us/step - loss: 7.8286e-04\n",
      "Epoch 49/100\n",
      "1/1 [==============================] - 0s 864us/step - loss: 7.2645e-04\n",
      "Epoch 50/100\n",
      "1/1 [==============================] - 0s 1ms/step - loss: 6.7241e-04\n",
      "Epoch 51/100\n",
      "1/1 [==============================] - 0s 1ms/step - loss: 6.2074e-04\n",
      "Epoch 52/100\n",
      "1/1 [==============================] - 0s 2ms/step - loss: 5.7140e-04\n",
      "Epoch 53/100\n",
      "1/1 [==============================] - 0s 1ms/step - loss: 5.2439e-04\n",
      "Epoch 54/100\n",
      "1/1 [==============================] - 0s 1ms/step - loss: 4.7969e-04\n",
      "Epoch 55/100\n",
      "1/1 [==============================] - 0s 1ms/step - loss: 4.3729e-04\n",
      "Epoch 56/100\n",
      "1/1 [==============================] - 0s 893us/step - loss: 3.9717e-04\n",
      "Epoch 57/100\n",
      "1/1 [==============================] - 0s 830us/step - loss: 3.5931e-04\n",
      "Epoch 58/100\n",
      "1/1 [==============================] - 0s 887us/step - loss: 3.2369e-04\n",
      "Epoch 59/100\n",
      "1/1 [==============================] - 0s 864us/step - loss: 2.9031e-04\n",
      "Epoch 60/100\n",
      "1/1 [==============================] - 0s 1ms/step - loss: 2.5913e-04\n",
      "Epoch 61/100\n",
      "1/1 [==============================] - 0s 1ms/step - loss: 2.3020e-04\n",
      "Epoch 62/100\n",
      "1/1 [==============================] - 0s 946us/step - loss: 2.0405e-04\n",
      "Epoch 63/100\n",
      "1/1 [==============================] - 0s 910us/step - loss: 1.8384e-04\n",
      "Epoch 64/100\n",
      "1/1 [==============================] - 0s 2ms/step - loss: 1.7265e-04\n",
      "Epoch 65/100\n",
      "1/1 [==============================] - 0s 835us/step - loss: 1.5666e-04\n",
      "Epoch 66/100\n",
      "1/1 [==============================] - 0s 2ms/step - loss: 1.3269e-04\n",
      "Epoch 67/100\n",
      "1/1 [==============================] - 0s 1ms/step - loss: 1.1210e-04\n",
      "Epoch 68/100\n",
      "1/1 [==============================] - 0s 937us/step - loss: 9.5263e-05\n",
      "Epoch 69/100\n",
      "1/1 [==============================] - 0s 1ms/step - loss: 8.1464e-05\n",
      "Epoch 70/100\n",
      "1/1 [==============================] - 0s 1ms/step - loss: 6.9521e-05\n",
      "Epoch 71/100\n",
      "1/1 [==============================] - 0s 948us/step - loss: 5.9120e-05\n",
      "Epoch 72/100\n",
      "1/1 [==============================] - 0s 1ms/step - loss: 5.0019e-05\n",
      "Epoch 73/100\n",
      "1/1 [==============================] - 0s 932us/step - loss: 4.2170e-05\n",
      "Epoch 74/100\n",
      "1/1 [==============================] - 0s 1ms/step - loss: 3.5545e-05\n",
      "Epoch 75/100\n",
      "1/1 [==============================] - 0s 1ms/step - loss: 3.0292e-05\n",
      "Epoch 76/100\n",
      "1/1 [==============================] - 0s 2ms/step - loss: 2.6620e-05\n",
      "Epoch 77/100\n",
      "1/1 [==============================] - 0s 893us/step - loss: 2.4960e-05\n",
      "Epoch 78/100\n",
      "1/1 [==============================] - 0s 1ms/step - loss: 2.4596e-05\n",
      "Epoch 79/100\n",
      "1/1 [==============================] - 0s 915us/step - loss: 2.4157e-05\n",
      "Epoch 80/100\n",
      "1/1 [==============================] - 0s 1ms/step - loss: 2.0604e-05\n",
      "Epoch 81/100\n",
      "1/1 [==============================] - 0s 1ms/step - loss: 1.6585e-05\n",
      "Epoch 82/100\n",
      "1/1 [==============================] - 0s 911us/step - loss: 1.2130e-05\n",
      "Epoch 83/100\n",
      "1/1 [==============================] - 0s 1ms/step - loss: 9.2592e-06\n",
      "Epoch 84/100\n",
      "1/1 [==============================] - 0s 1ms/step - loss: 7.0299e-06\n",
      "Epoch 85/100\n",
      "1/1 [==============================] - 0s 1ms/step - loss: 5.7522e-06\n",
      "Epoch 86/100\n",
      "1/1 [==============================] - 0s 969us/step - loss: 4.8846e-06\n",
      "Epoch 87/100\n",
      "1/1 [==============================] - 0s 1ms/step - loss: 4.6292e-06\n",
      "Epoch 88/100\n",
      "1/1 [==============================] - 0s 913us/step - loss: 4.6990e-06\n",
      "Epoch 89/100\n",
      "1/1 [==============================] - 0s 1ms/step - loss: 5.4085e-06\n",
      "Epoch 90/100\n",
      "1/1 [==============================] - 0s 1ms/step - loss: 6.3568e-06\n",
      "Epoch 91/100\n",
      "1/1 [==============================] - 0s 1ms/step - loss: 7.8717e-06\n",
      "Epoch 92/100\n",
      "1/1 [==============================] - 0s 1ms/step - loss: 8.7459e-06\n",
      "Epoch 93/100\n",
      "1/1 [==============================] - 0s 946us/step - loss: 9.4703e-06\n",
      "Epoch 94/100\n",
      "1/1 [==============================] - 0s 1ms/step - loss: 8.6249e-06\n",
      "Epoch 95/100\n",
      "1/1 [==============================] - 0s 1ms/step - loss: 7.9003e-06\n",
      "Epoch 96/100\n",
      "1/1 [==============================] - 0s 1ms/step - loss: 6.4683e-06\n",
      "Epoch 97/100\n",
      "1/1 [==============================] - 0s 1ms/step - loss: 5.7309e-06\n",
      "Epoch 98/100\n",
      "1/1 [==============================] - 0s 951us/step - loss: 4.9113e-06\n",
      "Epoch 99/100\n",
      "1/1 [==============================] - 0s 993us/step - loss: 4.7156e-06\n",
      "Epoch 100/100\n"
     ]
    },
    {
     "name": "stdout",
     "output_type": "stream",
     "text": [
      "1/1 [==============================] - ETA: 0s - loss: 4.5326e-06\b\b\b\b\b\b\b\b\b\b\b\b\b\b\b\b\b\b\b\b\b\b\b\b\b\b\b\b\b\b\b\b\b\b\b\b\b\b\b\b\b\b\b\b\b\b\b\b\b\b\b\b\b\b\b\b\b\b\b\b\b\b\b\b\b\r",
      "1/1 [==============================] - 0s 933us/step - loss: 4.5326e-06\n"
     ]
    },
    {
     "data": {
      "text/plain": [
       "<tensorflow.python.keras.callbacks.History at 0x7f9e044e4370>"
      ]
     },
     "execution_count": 10,
     "metadata": {},
     "output_type": "execute_result"
    }
   ],
   "source": [
    "M.train(epochs=100, verbose=1)"
   ]
  },
  {
   "cell_type": "markdown",
   "metadata": {},
   "source": [
    "We can now use the model for making predictions with the `predict()` method. The parameter `denormalized` will return values in the original scale of the data. In our case, US dollars."
   ]
  },
  {
   "cell_type": "code",
   "execution_count": 11,
   "metadata": {},
   "outputs": [
    {
     "data": {
      "text/plain": [
       "array([1420.8762, 1103.4261, 1289.2073, 1435.4932, 1518.1206, 1437.2252,\n",
       "       1371.762 ], dtype=float32)"
      ]
     },
     "execution_count": 11,
     "metadata": {},
     "output_type": "execute_result"
    }
   ],
   "source": [
    "M.predict(denormalized=True)"
   ]
  },
  {
   "cell_type": "markdown",
   "metadata": {},
   "source": [
    "We now evaluate our model to inspect the statistics for the last epoch of training compared to a single test week."
   ]
  },
  {
   "cell_type": "code",
   "execution_count": 12,
   "metadata": {},
   "outputs": [
    {
     "data": {
      "text/plain": [
       "{'mse': 0.0, 'rmse': 137.87, 'mape': 6.42}"
      ]
     },
     "execution_count": 12,
     "metadata": {},
     "output_type": "execute_result"
    }
   ],
   "source": [
    "M.evaluate()"
   ]
  },
  {
   "cell_type": "markdown",
   "metadata": {},
   "source": [
    "Finally, we can now save the trained model on disk for later use."
   ]
  },
  {
   "cell_type": "code",
   "execution_count": 13,
   "metadata": {},
   "outputs": [],
   "source": [
    "M.save('bitcoin_model_prod_v0.h5')"
   ]
  },
  {
   "cell_type": "markdown",
   "metadata": {},
   "source": [
    "Our `Model()` class can also load a previously trained model when instantiated with the `path` parameter."
   ]
  },
  {
   "cell_type": "code",
   "execution_count": 14,
   "metadata": {},
   "outputs": [],
   "source": [
    "M = Model(path='bitcoin_model_prod_v0.h5',\n",
    "          data=model_data,\n",
    "          variable='close',\n",
    "          predicted_period_size=7)"
   ]
  },
  {
   "cell_type": "code",
   "execution_count": 15,
   "metadata": {},
   "outputs": [
    {
     "data": {
      "text/plain": [
       "array([1420.8762, 1103.4261, 1289.2073, 1435.4932, 1518.1206, 1437.2252,\n",
       "       1371.762 ], dtype=float32)"
      ]
     },
     "execution_count": 15,
     "metadata": {},
     "output_type": "execute_result"
    }
   ],
   "source": [
    "M.predict(denormalized=True)"
   ]
  },
  {
   "cell_type": "markdown",
   "metadata": {},
   "source": [
    "## New Data, Re-train Old Model\n",
    "One strategy discussed earlier regards the re-training of our model with new data. In our case, our biggest concern is to shape data in a way that the model has been configured. As an example, we will configure our model to predict a week using 40 weeks. We will first train the model with the first 40 weeks of 2017, then continue to re-train it over the following weeks until we reach week 50."
   ]
  },
  {
   "cell_type": "markdown",
   "metadata": {},
   "source": [
    "First, let's build a model with the first set of data. Notice how we use `7*40 + 7` as the indexer. This is because we use 40 weeks for training and 1 week for testing. "
   ]
  },
  {
   "cell_type": "code",
   "execution_count": 16,
   "metadata": {},
   "outputs": [],
   "source": [
    "M1 = Model(data=model_data[0*7:7*40 + 7],\n",
    "          variable='close',\n",
    "          predicted_period_size=7)"
   ]
  },
  {
   "cell_type": "code",
   "execution_count": 17,
   "metadata": {},
   "outputs": [
    {
     "data": {
      "text/plain": [
       "<tensorflow.python.keras.engine.sequential.Sequential at 0x7f9dfc1aa760>"
      ]
     },
     "execution_count": 17,
     "metadata": {},
     "output_type": "execute_result"
    }
   ],
   "source": [
    "M1.build()"
   ]
  },
  {
   "cell_type": "code",
   "execution_count": 18,
   "metadata": {},
   "outputs": [
    {
     "data": {
      "text/plain": [
       "<tensorflow.python.keras.callbacks.History at 0x7f9dfc02e3a0>"
      ]
     },
     "execution_count": 18,
     "metadata": {},
     "output_type": "execute_result"
    }
   ],
   "source": [
    "M1.train()"
   ]
  },
  {
   "cell_type": "code",
   "execution_count": 21,
   "metadata": {
    "eid": "ffd950"
   },
   "outputs": [],
   "source": [
    "#\n",
    "#  Complete the range function and\n",
    "#  the model_data filtering parameters\n",
    "#  using an index to split the data in overlapping\n",
    "#  groups of 7 days. Then, re-train our model\n",
    "#  and collect the results.\n",
    "#\n",
    "#  The variables A, B, C, and D are placeholders.\n",
    "#\n",
    "A=1\n",
    "B=11\n",
    "C=0*7\n",
    "results = []\n",
    "for i in range(A, B):\n",
    "    M1.train(model_data[C:(7*(40+i) + 7)])\n",
    "    results.append(M1.evaluate())"
   ]
  },
  {
   "cell_type": "code",
   "execution_count": 22,
   "metadata": {},
   "outputs": [
    {
     "name": "stdout",
     "output_type": "stream",
     "text": [
      "Week 41: {'mse': 0.0, 'rmse': 136.43, 'mape': 6.43}\n",
      "Week 42: {'mse': 0.0, 'rmse': 136.82, 'mape': 6.42}\n",
      "Week 43: {'mse': 0.0, 'rmse': 136.72, 'mape': 6.42}\n",
      "Week 44: {'mse': 0.0, 'rmse': 136.85, 'mape': 6.42}\n",
      "Week 45: {'mse': 0.0, 'rmse': 136.25, 'mape': 6.44}\n",
      "Week 46: {'mse': 0.0, 'rmse': 137.04, 'mape': 6.41}\n",
      "Week 47: {'mse': 0.0, 'rmse': 137.44, 'mape': 6.41}\n",
      "Week 48: {'mse': 0.0, 'rmse': 136.54, 'mape': 6.43}\n",
      "Week 49: {'mse': 0.0, 'rmse': 136.2, 'mape': 6.44}\n",
      "Week 50: {'mse': 0.0, 'rmse': 136.61, 'mape': 6.43}\n"
     ]
    }
   ],
   "source": [
    "for i, result in enumerate(results):\n",
    "    print(f'Week {40+i+1}: {result}')"
   ]
  },
  {
   "cell_type": "code",
   "execution_count": 23,
   "metadata": {},
   "outputs": [
    {
     "data": {
      "text/plain": [
       "array([1417.6177, 1100.044 , 1291.3823, 1437.8337, 1517.8467, 1439.7753,\n",
       "       1367.7842], dtype=float32)"
      ]
     },
     "execution_count": 23,
     "metadata": {},
     "output_type": "execute_result"
    }
   ],
   "source": [
    "M1.predict(denormalized=True)"
   ]
  },
  {
   "cell_type": "markdown",
   "metadata": {},
   "source": [
    "## New Data, New Model\n",
    "Another strategy is to create and train a new model evey time new data is available. This approach tends to reduce catastrophic forgetting, but training time increases as data increases. \n",
    "\n",
    "It's implementation is quite simple.\n",
    "\n",
    "Let's assume we have old data for 49 weeks of 2017 and after a week we now have new data. We represent this wtih the variables `old_data` and `new_data`. "
   ]
  },
  {
   "cell_type": "code",
   "execution_count": 24,
   "metadata": {},
   "outputs": [],
   "source": [
    "old_data = model_data[0*7:7*48 + 7]"
   ]
  },
  {
   "cell_type": "code",
   "execution_count": 25,
   "metadata": {},
   "outputs": [],
   "source": [
    "new_data = model_data[0*7:7*49 + 7]"
   ]
  },
  {
   "cell_type": "code",
   "execution_count": 26,
   "metadata": {},
   "outputs": [],
   "source": [
    "M2 = Model(data=old_data,\n",
    "          variable='close',\n",
    "          predicted_period_size=7)"
   ]
  },
  {
   "cell_type": "code",
   "execution_count": 27,
   "metadata": {},
   "outputs": [
    {
     "data": {
      "text/plain": [
       "<tensorflow.python.keras.callbacks.History at 0x7f9dcc3df280>"
      ]
     },
     "execution_count": 27,
     "metadata": {},
     "output_type": "execute_result"
    }
   ],
   "source": [
    "M2.build()\n",
    "M1.train()"
   ]
  },
  {
   "cell_type": "code",
   "execution_count": 28,
   "metadata": {},
   "outputs": [
    {
     "data": {
      "text/plain": [
       "array([1413.505 , 1386.108 , 1445.4042, 1389.4191, 1421.062 , 1432.8567,\n",
       "       1415.0548], dtype=float32)"
      ]
     },
     "execution_count": 28,
     "metadata": {},
     "output_type": "execute_result"
    }
   ],
   "source": [
    "M2.predict(denormalized=True)"
   ]
  },
  {
   "cell_type": "markdown",
   "metadata": {},
   "source": [
    "Now, assume that new data is available. Using this technique we go ahead and create a new model using only the new data. "
   ]
  },
  {
   "cell_type": "code",
   "execution_count": 29,
   "metadata": {
    "eid": "0f2eb7"
   },
   "outputs": [],
   "source": [
    "#\n",
    "#  Re-instantiate the model with the Model()\n",
    "#  class using the new_data variable instead\n",
    "#  of the old_data one. \n",
    "#\n",
    "M3 = Model(data=new_data,\n",
    "          variable = 'close',\n",
    "          predicted_period_size=7)"
   ]
  },
  {
   "cell_type": "code",
   "execution_count": 30,
   "metadata": {},
   "outputs": [
    {
     "data": {
      "text/plain": [
       "<tensorflow.python.keras.callbacks.History at 0x7f9dcc105b50>"
      ]
     },
     "execution_count": 30,
     "metadata": {},
     "output_type": "execute_result"
    }
   ],
   "source": [
    "M3.build()\n",
    "M3.train()"
   ]
  },
  {
   "cell_type": "code",
   "execution_count": 31,
   "metadata": {},
   "outputs": [
    {
     "data": {
      "text/plain": [
       "array([1420.1062, 1103.3489, 1286.493 , 1434.1306, 1522.9209, 1437.8608,\n",
       "       1369.8954], dtype=float32)"
      ]
     },
     "execution_count": 31,
     "metadata": {},
     "output_type": "execute_result"
    }
   ],
   "source": [
    "M3.predict(denormalized=True)"
   ]
  },
  {
   "cell_type": "markdown",
   "metadata": {},
   "source": [
    "This approach is very simple to implement and tends to work well. We will be using this to deploy our application."
   ]
  },
  {
   "cell_type": "code",
   "execution_count": null,
   "metadata": {},
   "outputs": [],
   "source": []
  }
 ],
 "metadata": {
  "kernelspec": {
   "display_name": "Python 3",
   "language": "python",
   "name": "python3"
  },
  "language_info": {
   "codemirror_mode": {
    "name": "ipython",
    "version": 3
   },
   "file_extension": ".py",
   "mimetype": "text/x-python",
   "name": "python",
   "nbconvert_exporter": "python",
   "pygments_lexer": "ipython3",
   "version": "3.8.3"
  }
 },
 "nbformat": 4,
 "nbformat_minor": 2
}
