{
 "cells": [
  {
   "cell_type": "markdown",
   "metadata": {},
   "source": [
    "# Activity 5: Assembling a Deep Learning System\n",
    "In this activity, we will train the first version of our LSTM model using Bitcoin daily closing prices. These prices will be organized using the weeks of both 2016 and 2017. We do that because we are interested in predicting the prices of a week's worth of trading."
   ]
  },
  {
   "cell_type": "code",
   "execution_count": 1,
   "metadata": {},
   "outputs": [
    {
     "data": {
      "application/javascript": [
       "IPython.notebook.set_autosave_interval(5000)"
      ]
     },
     "metadata": {},
     "output_type": "display_data"
    },
    {
     "name": "stdout",
     "output_type": "stream",
     "text": [
      "Autosaving every 5 seconds\n"
     ]
    }
   ],
   "source": [
    "%autosave 5\n",
    "\n",
    "#  Import necessary libraries\n",
    "import numpy as np\n",
    "import pandas as pd\n",
    "import matplotlib.pyplot as plt\n",
    "%matplotlib inline\n",
    "plt.style.use('seaborn-white')\n",
    "\n",
    "from keras.models import load_model"
   ]
  },
  {
   "cell_type": "code",
   "execution_count": 2,
   "metadata": {},
   "outputs": [
    {
     "data": {
      "text/html": [
       "<div>\n",
       "<style scoped>\n",
       "    .dataframe tbody tr th:only-of-type {\n",
       "        vertical-align: middle;\n",
       "    }\n",
       "\n",
       "    .dataframe tbody tr th {\n",
       "        vertical-align: top;\n",
       "    }\n",
       "\n",
       "    .dataframe thead th {\n",
       "        text-align: right;\n",
       "    }\n",
       "</style>\n",
       "<table border=\"1\" class=\"dataframe\">\n",
       "  <thead>\n",
       "    <tr style=\"text-align: right;\">\n",
       "      <th></th>\n",
       "      <th>date</th>\n",
       "      <th>iso_week</th>\n",
       "      <th>close</th>\n",
       "      <th>volume</th>\n",
       "      <th>close_point_relative_normalization</th>\n",
       "      <th>volume_point_relative_normalization</th>\n",
       "    </tr>\n",
       "  </thead>\n",
       "  <tbody>\n",
       "    <tr>\n",
       "      <th>0</th>\n",
       "      <td>2016-01-01</td>\n",
       "      <td>2016-00</td>\n",
       "      <td>434.33</td>\n",
       "      <td>36278900.0</td>\n",
       "      <td>0.000000</td>\n",
       "      <td>0.000000</td>\n",
       "    </tr>\n",
       "    <tr>\n",
       "      <th>1</th>\n",
       "      <td>2016-01-02</td>\n",
       "      <td>2016-00</td>\n",
       "      <td>433.44</td>\n",
       "      <td>30096600.0</td>\n",
       "      <td>-0.002049</td>\n",
       "      <td>-0.170410</td>\n",
       "    </tr>\n",
       "    <tr>\n",
       "      <th>2</th>\n",
       "      <td>2016-01-03</td>\n",
       "      <td>2016-01</td>\n",
       "      <td>430.01</td>\n",
       "      <td>39633800.0</td>\n",
       "      <td>0.000000</td>\n",
       "      <td>0.000000</td>\n",
       "    </tr>\n",
       "    <tr>\n",
       "      <th>3</th>\n",
       "      <td>2016-01-04</td>\n",
       "      <td>2016-01</td>\n",
       "      <td>433.09</td>\n",
       "      <td>38477500.0</td>\n",
       "      <td>0.007163</td>\n",
       "      <td>-0.029175</td>\n",
       "    </tr>\n",
       "    <tr>\n",
       "      <th>4</th>\n",
       "      <td>2016-01-05</td>\n",
       "      <td>2016-01</td>\n",
       "      <td>431.96</td>\n",
       "      <td>34522600.0</td>\n",
       "      <td>0.004535</td>\n",
       "      <td>-0.128961</td>\n",
       "    </tr>\n",
       "  </tbody>\n",
       "</table>\n",
       "</div>"
      ],
      "text/plain": [
       "         date iso_week   close      volume  \\\n",
       "0  2016-01-01  2016-00  434.33  36278900.0   \n",
       "1  2016-01-02  2016-00  433.44  30096600.0   \n",
       "2  2016-01-03  2016-01  430.01  39633800.0   \n",
       "3  2016-01-04  2016-01  433.09  38477500.0   \n",
       "4  2016-01-05  2016-01  431.96  34522600.0   \n",
       "\n",
       "   close_point_relative_normalization  volume_point_relative_normalization  \n",
       "0                            0.000000                             0.000000  \n",
       "1                           -0.002049                            -0.170410  \n",
       "2                            0.000000                             0.000000  \n",
       "3                            0.007163                            -0.029175  \n",
       "4                            0.004535                            -0.128961  "
      ]
     },
     "execution_count": 2,
     "metadata": {},
     "output_type": "execute_result"
    }
   ],
   "source": [
    "#  Import training dataset\n",
    "train = pd.read_csv('train_dataset.csv')\n",
    "train.head()"
   ]
  },
  {
   "cell_type": "markdown",
   "metadata": {},
   "source": [
    "## Reshape Data"
   ]
  },
  {
   "cell_type": "code",
   "execution_count": 3,
   "metadata": {},
   "outputs": [],
   "source": [
    "def create_groups(data, group_size=7):\n",
    "    \"\"\"Create distinct groups from a continuous series.\n",
    "    \n",
    "    Parameters\n",
    "    ----------\n",
    "    data: np.array\n",
    "        Series of continious observations.\n",
    "\n",
    "    group_size: int, default 7\n",
    "        Determines how large the groups are. That is,\n",
    "        how many observations each group contains.\n",
    "    \n",
    "    Returns\n",
    "    -------\n",
    "    A Numpy array object. \n",
    "    \"\"\"\n",
    "    samples = []\n",
    "    for i in range(0, len(data), group_size):\n",
    "        sample = list(data[i:i + group_size])\n",
    "        if len(sample) == group_size:\n",
    "            samples.append(np.array(sample).reshape(1, group_size))\n",
    "    \n",
    "    return np.array(samples)"
   ]
  },
  {
   "cell_type": "code",
   "execution_count": 4,
   "metadata": {},
   "outputs": [
    {
     "data": {
      "text/plain": [
       "2"
      ]
     },
     "execution_count": 4,
     "metadata": {},
     "output_type": "execute_result"
    }
   ],
   "source": [
    "#  Find the remainder when the number of observations is divided by group size\n",
    "len(train) % 7"
   ]
  },
  {
   "cell_type": "code",
   "execution_count": 5,
   "metadata": {},
   "outputs": [
    {
     "name": "stdout",
     "output_type": "stream",
     "text": [
      "(77, 1, 7)\n"
     ]
    }
   ],
   "source": [
    "#  Create groups of 7 from our data.\n",
    "#  We drop the first two observations so that the\n",
    "#  number of total observations is divisible by the `group_size`.\n",
    "data = create_groups(train['close_point_relative_normalization'][2:].values)\n",
    "print(data.shape)"
   ]
  },
  {
   "cell_type": "code",
   "execution_count": 6,
   "metadata": {},
   "outputs": [
    {
     "name": "stdout",
     "output_type": "stream",
     "text": [
      "(1, 76, 7)\n",
      "(1, 7)\n"
     ]
    }
   ],
   "source": [
    "#  Reshape data into format expected by LSTM layer\n",
    "X_train = data[:-1, :].reshape(1, 76, 7)\n",
    "Y_validation = data[-1].reshape(1, 7)\n",
    "print(X_train.shape)\n",
    "print(Y_validation.shape)"
   ]
  },
  {
   "cell_type": "markdown",
   "metadata": {},
   "source": [
    "## Load Our Model"
   ]
  },
  {
   "cell_type": "code",
   "execution_count": 7,
   "metadata": {},
   "outputs": [],
   "source": [
    "#  Load our previously trained model \n",
    "model = load_model('bitcoin_lstm_v0.h5')"
   ]
  },
  {
   "cell_type": "markdown",
   "metadata": {},
   "source": [
    "## Train model"
   ]
  },
  {
   "cell_type": "code",
   "execution_count": 8,
   "metadata": {
    "scrolled": true
   },
   "outputs": [
    {
     "name": "stdout",
     "output_type": "stream",
     "text": [
      "Epoch 1/100\n",
      "1/1 [==============================] - 0s 1ms/step - loss: 0.0034\n",
      "Epoch 2/100\n",
      "1/1 [==============================] - 0s 890us/step - loss: 0.0027\n",
      "Epoch 3/100\n",
      "1/1 [==============================] - 0s 717us/step - loss: 0.0022\n",
      "Epoch 4/100\n",
      "1/1 [==============================] - 0s 983us/step - loss: 0.0019\n",
      "Epoch 5/100\n",
      "1/1 [==============================] - 0s 875us/step - loss: 0.0016\n",
      "Epoch 6/100\n",
      "1/1 [==============================] - 0s 2ms/step - loss: 0.0014\n",
      "Epoch 7/100\n",
      "1/1 [==============================] - 0s 874us/step - loss: 0.0012\n",
      "Epoch 8/100\n",
      "1/1 [==============================] - 0s 1ms/step - loss: 0.0011\n",
      "Epoch 9/100\n",
      "1/1 [==============================] - 0s 2ms/step - loss: 9.3072e-04\n",
      "Epoch 10/100\n",
      "1/1 [==============================] - 0s 1ms/step - loss: 8.0694e-04\n",
      "Epoch 11/100\n",
      "1/1 [==============================] - 0s 2ms/step - loss: 6.9778e-04\n",
      "Epoch 12/100\n",
      "1/1 [==============================] - 0s 2ms/step - loss: 6.0152e-04\n",
      "Epoch 13/100\n",
      "1/1 [==============================] - 0s 1ms/step - loss: 5.1678e-04\n",
      "Epoch 14/100\n",
      "1/1 [==============================] - 0s 1ms/step - loss: 4.4241e-04\n",
      "Epoch 15/100\n",
      "1/1 [==============================] - 0s 1ms/step - loss: 3.7740e-04\n",
      "Epoch 16/100\n",
      "1/1 [==============================] - 0s 1ms/step - loss: 3.2086e-04\n",
      "Epoch 17/100\n",
      "1/1 [==============================] - 0s 928us/step - loss: 2.7197e-04\n",
      "Epoch 18/100\n",
      "1/1 [==============================] - 0s 1ms/step - loss: 2.2995e-04\n",
      "Epoch 19/100\n",
      "1/1 [==============================] - 0s 2ms/step - loss: 1.9404e-04\n",
      "Epoch 20/100\n",
      "1/1 [==============================] - 0s 991us/step - loss: 1.6353e-04\n",
      "Epoch 21/100\n",
      "1/1 [==============================] - 0s 1ms/step - loss: 1.3773e-04\n",
      "Epoch 22/100\n",
      "1/1 [==============================] - 0s 1ms/step - loss: 1.1599e-04\n",
      "Epoch 23/100\n",
      "1/1 [==============================] - 0s 1ms/step - loss: 9.7693e-05\n",
      "Epoch 24/100\n",
      "1/1 [==============================] - 0s 1ms/step - loss: 8.2299e-05\n",
      "Epoch 25/100\n",
      "1/1 [==============================] - 0s 1ms/step - loss: 6.9327e-05\n",
      "Epoch 26/100\n",
      "1/1 [==============================] - 0s 2ms/step - loss: 5.8365e-05\n",
      "Epoch 27/100\n",
      "1/1 [==============================] - 0s 2ms/step - loss: 4.9071e-05\n",
      "Epoch 28/100\n",
      "1/1 [==============================] - 0s 1ms/step - loss: 4.1165e-05\n",
      "Epoch 29/100\n",
      "1/1 [==============================] - 0s 1ms/step - loss: 3.4422e-05\n",
      "Epoch 30/100\n",
      "1/1 [==============================] - 0s 1ms/step - loss: 2.8661e-05\n",
      "Epoch 31/100\n",
      "1/1 [==============================] - 0s 1ms/step - loss: 2.3739e-05\n",
      "Epoch 32/100\n",
      "1/1 [==============================] - 0s 1ms/step - loss: 1.9539e-05\n",
      "Epoch 33/100\n",
      "1/1 [==============================] - 0s 2ms/step - loss: 1.5966e-05\n",
      "Epoch 34/100\n",
      "1/1 [==============================] - 0s 1ms/step - loss: 1.2940e-05\n",
      "Epoch 35/100\n",
      "1/1 [==============================] - 0s 886us/step - loss: 1.0391e-05\n",
      "Epoch 36/100\n",
      "1/1 [==============================] - 0s 1ms/step - loss: 8.2607e-06\n",
      "Epoch 37/100\n",
      "1/1 [==============================] - 0s 2ms/step - loss: 6.4946e-06\n",
      "Epoch 38/100\n",
      "1/1 [==============================] - 0s 1ms/step - loss: 5.0449e-06\n",
      "Epoch 39/100\n",
      "1/1 [==============================] - 0s 1ms/step - loss: 3.8679e-06\n",
      "Epoch 40/100\n",
      "1/1 [==============================] - 0s 1ms/step - loss: 2.9240e-06\n",
      "Epoch 41/100\n",
      "1/1 [==============================] - 0s 1ms/step - loss: 2.1771e-06\n",
      "Epoch 42/100\n",
      "1/1 [==============================] - 0s 1ms/step - loss: 1.5947e-06\n",
      "Epoch 43/100\n",
      "1/1 [==============================] - 0s 2ms/step - loss: 1.1478e-06\n",
      "Epoch 44/100\n",
      "1/1 [==============================] - 0s 1ms/step - loss: 8.1081e-07\n",
      "Epoch 45/100\n",
      "1/1 [==============================] - 0s 2ms/step - loss: 5.6134e-07\n",
      "Epoch 46/100\n",
      "1/1 [==============================] - 0s 1ms/step - loss: 3.8035e-07\n",
      "Epoch 47/100\n",
      "1/1 [==============================] - 0s 2ms/step - loss: 2.5184e-07\n",
      "Epoch 48/100\n",
      "1/1 [==============================] - 0s 2ms/step - loss: 1.6275e-07\n",
      "Epoch 49/100\n",
      "1/1 [==============================] - 0s 3ms/step - loss: 1.0287e-07\n",
      "Epoch 50/100\n",
      "1/1 [==============================] - 0s 1ms/step - loss: 6.7496e-08\n",
      "Epoch 51/100\n",
      "1/1 [==============================] - 0s 2ms/step - loss: 9.0467e-08\n",
      "Epoch 52/100\n",
      "1/1 [==============================] - 0s 1ms/step - loss: 6.3827e-07\n",
      "Epoch 53/100\n",
      "1/1 [==============================] - 0s 2ms/step - loss: 5.1494e-06\n",
      "Epoch 54/100\n",
      "1/1 [==============================] - 0s 2ms/step - loss: 1.7564e-05\n",
      "Epoch 55/100\n",
      "1/1 [==============================] - 0s 3ms/step - loss: 1.7126e-05\n",
      "Epoch 56/100\n",
      "1/1 [==============================] - 0s 2ms/step - loss: 7.6982e-06\n",
      "Epoch 57/100\n",
      "1/1 [==============================] - 0s 1ms/step - loss: 3.2320e-06\n",
      "Epoch 58/100\n",
      "1/1 [==============================] - 0s 2ms/step - loss: 1.4330e-06\n",
      "Epoch 59/100\n",
      "1/1 [==============================] - 0s 2ms/step - loss: 7.8623e-07\n",
      "Epoch 60/100\n",
      "1/1 [==============================] - 0s 1ms/step - loss: 5.1645e-07\n",
      "Epoch 61/100\n",
      "1/1 [==============================] - 0s 2ms/step - loss: 4.2065e-07\n",
      "Epoch 62/100\n",
      "1/1 [==============================] - 0s 897us/step - loss: 4.1099e-07\n",
      "Epoch 63/100\n",
      "1/1 [==============================] - 0s 1ms/step - loss: 4.8671e-07\n",
      "Epoch 64/100\n",
      "1/1 [==============================] - 0s 1ms/step - loss: 6.7587e-07\n",
      "Epoch 65/100\n",
      "1/1 [==============================] - 0s 1ms/step - loss: 1.0985e-06\n",
      "Epoch 66/100\n",
      "1/1 [==============================] - 0s 1ms/step - loss: 1.9777e-06\n",
      "Epoch 67/100\n",
      "1/1 [==============================] - 0s 1ms/step - loss: 3.7878e-06\n",
      "Epoch 68/100\n",
      "1/1 [==============================] - 0s 1ms/step - loss: 6.6591e-06\n",
      "Epoch 69/100\n",
      "1/1 [==============================] - 0s 875us/step - loss: 9.5983e-06\n",
      "Epoch 70/100\n",
      "1/1 [==============================] - 0s 1ms/step - loss: 9.5809e-06\n",
      "Epoch 71/100\n",
      "1/1 [==============================] - 0s 969us/step - loss: 7.6747e-06\n",
      "Epoch 72/100\n",
      "1/1 [==============================] - 0s 1ms/step - loss: 5.0939e-06\n",
      "Epoch 73/100\n",
      "1/1 [==============================] - 0s 895us/step - loss: 3.5273e-06\n",
      "Epoch 74/100\n",
      "1/1 [==============================] - 0s 971us/step - loss: 2.5301e-06\n",
      "Epoch 75/100\n",
      "1/1 [==============================] - 0s 1ms/step - loss: 2.0842e-06\n",
      "Epoch 76/100\n",
      "1/1 [==============================] - 0s 5ms/step - loss: 1.9029e-06\n",
      "Epoch 77/100\n",
      "1/1 [==============================] - 0s 2ms/step - loss: 1.9976e-06\n",
      "Epoch 78/100\n",
      "1/1 [==============================] - 0s 2ms/step - loss: 2.2987e-06\n",
      "Epoch 79/100\n",
      "1/1 [==============================] - 0s 931us/step - loss: 2.8969e-06\n",
      "Epoch 80/100\n",
      "1/1 [==============================] - 0s 2ms/step - loss: 3.7251e-06\n",
      "Epoch 81/100\n",
      "1/1 [==============================] - 0s 1ms/step - loss: 4.7531e-06\n",
      "Epoch 82/100\n",
      "1/1 [==============================] - 0s 1ms/step - loss: 5.5783e-06\n",
      "Epoch 83/100\n",
      "1/1 [==============================] - 0s 855us/step - loss: 6.0898e-06\n",
      "Epoch 84/100\n",
      "1/1 [==============================] - 0s 1ms/step - loss: 6.0650e-06\n",
      "Epoch 85/100\n",
      "1/1 [==============================] - 0s 1ms/step - loss: 6.0217e-06\n",
      "Epoch 86/100\n",
      "1/1 [==============================] - 0s 750us/step - loss: 5.7209e-06\n",
      "Epoch 87/100\n",
      "1/1 [==============================] - 0s 1ms/step - loss: 5.5203e-06\n",
      "Epoch 88/100\n",
      "1/1 [==============================] - 0s 1ms/step - loss: 4.6968e-06\n",
      "Epoch 89/100\n",
      "1/1 [==============================] - 0s 1ms/step - loss: 4.0061e-06\n",
      "Epoch 90/100\n",
      "1/1 [==============================] - 0s 2ms/step - loss: 3.1720e-06\n",
      "Epoch 91/100\n",
      "1/1 [==============================] - 0s 1ms/step - loss: 2.7142e-06\n",
      "Epoch 92/100\n",
      "1/1 [==============================] - 0s 1ms/step - loss: 2.3488e-06\n",
      "Epoch 93/100\n",
      "1/1 [==============================] - 0s 858us/step - loss: 2.2655e-06\n",
      "Epoch 94/100\n",
      "1/1 [==============================] - 0s 829us/step - loss: 2.2781e-06\n",
      "Epoch 95/100\n",
      "1/1 [==============================] - 0s 1ms/step - loss: 2.5416e-06\n",
      "Epoch 96/100\n",
      "1/1 [==============================] - 0s 915us/step - loss: 2.9494e-06\n",
      "Epoch 97/100\n",
      "1/1 [==============================] - 0s 997us/step - loss: 3.7362e-06\n",
      "Epoch 98/100\n",
      "1/1 [==============================] - 0s 942us/step - loss: 4.8222e-06\n",
      "Epoch 99/100\n"
     ]
    },
    {
     "name": "stdout",
     "output_type": "stream",
     "text": [
      "1/1 [==============================] - 0s 1ms/step - loss: 6.5105e-06\n",
      "Epoch 100/100\n",
      "1/1 [==============================] - 0s 923us/step - loss: 8.3544e-06\n",
      "CPU times: user 3.54 s, sys: 215 ms, total: 3.75 s\n",
      "Wall time: 3.16 s\n"
     ]
    }
   ],
   "source": [
    "%%time\n",
    "#  Train the model\n",
    "history = model.fit(\n",
    "    x=X_train, y=Y_validation,\n",
    "    batch_size=32, epochs=100)"
   ]
  },
  {
   "cell_type": "code",
   "execution_count": 9,
   "metadata": {},
   "outputs": [
    {
     "data": {
      "image/png": "[encoded data removed]",
      "text/plain": [
       "<Figure size 1008x288 with 1 Axes>"
      ]
     },
     "metadata": {},
     "output_type": "display_data"
    }
   ],
   "source": [
    "#  Plot loss function\n",
    "pd.Series(history.history['loss']).plot(figsize=(14, 4));"
   ]
  },
  {
   "cell_type": "markdown",
   "metadata": {},
   "source": [
    "## Make Predictions"
   ]
  },
  {
   "cell_type": "code",
   "execution_count": 10,
   "metadata": {},
   "outputs": [
    {
     "data": {
      "text/plain": [
       "array([-0.00099962,  0.01867257,  0.0646017 ,  0.05858088,  0.0635311 ,\n",
       "        0.07303674,  0.01958132], dtype=float32)"
      ]
     },
     "execution_count": 10,
     "metadata": {},
     "output_type": "execute_result"
    }
   ],
   "source": [
    "#  Make predictions using X_train data\n",
    "predictions = model.predict(x=X_train)[0]\n",
    "predictions"
   ]
  },
  {
   "cell_type": "code",
   "execution_count": 11,
   "metadata": {},
   "outputs": [],
   "source": [
    "def denormalize(series, last_value):\n",
    "    \"\"\"Denormalize the values for a given series.\n",
    "    \n",
    "    This uses the last value available (i.e. the last\n",
    "    closing price of the week before our prediction)\n",
    "    as a reference for scaling the predicted results.\n",
    "    \"\"\"\n",
    "    result = last_value * (series + 1)\n",
    "    return result"
   ]
  },
  {
   "cell_type": "code",
   "execution_count": 12,
   "metadata": {},
   "outputs": [
    {
     "data": {
      "text/plain": [
       "array([2653.225 , 2705.472 , 2827.454 , 2811.4636, 2824.611 , 2849.857 ,\n",
       "       2707.8855], dtype=float32)"
      ]
     },
     "execution_count": 12,
     "metadata": {},
     "output_type": "execute_result"
    }
   ],
   "source": [
    "#  Denormalize predictions\n",
    "last_weeks_value = train[train['date'] == train['date'][:-7].max()]['close'].values[0]\n",
    "\n",
    "denormalized_prediction = denormalize(predictions, last_weeks_value)\n",
    "denormalized_prediction"
   ]
  },
  {
   "cell_type": "code",
   "execution_count": 13,
   "metadata": {},
   "outputs": [
    {
     "data": {
      "image/png": "[encoded data removed]",
      "text/plain": [
       "<Figure size 1008x288 with 1 Axes>"
      ]
     },
     "metadata": {},
     "output_type": "display_data"
    }
   ],
   "source": [
    "#  Plot denormalized predictions against actual predictions\n",
    "plt.figure(figsize=(14, 4))\n",
    "\n",
    "plt.plot(train['close'][-7:].values, label='Actual')\n",
    "plt.plot(denormalized_prediction, color='#d35400', label='Predicted')\n",
    "\n",
    "plt.grid()\n",
    "plt.legend();"
   ]
  },
  {
   "cell_type": "code",
   "execution_count": 14,
   "metadata": {},
   "outputs": [
    {
     "data": {
      "image/png": "[encoded data removed]",
      "text/plain": [
       "<Figure size 1008x288 with 1 Axes>"
      ]
     },
     "metadata": {},
     "output_type": "display_data"
    }
   ],
   "source": [
    "prediction_plot = np.zeros(len(train)-2)\n",
    "prediction_plot[:] = np.nan\n",
    "prediction_plot[-7:] = denormalized_prediction\n",
    "\n",
    "plt.figure(figsize=(14, 4))\n",
    "plt.plot(train['close'][-30:].values, label='Actual')\n",
    "plt.plot(prediction_plot[-30:], color='#d35400', linestyle='--', label='Predicted')\n",
    "plt.axvline(30 - 7, color='r', linestyle='--', linewidth=1)\n",
    "\n",
    "plt.grid()\n",
    "plt.legend(loc='lower right');"
   ]
  },
  {
   "cell_type": "code",
   "execution_count": 16,
   "metadata": {
    "eid": "8ce0c2"
   },
   "outputs": [],
   "source": [
    "#  TASK:\n",
    "#  Save model to disk\n",
    "#\n",
    "model.save('bitcoin_lstm_v0_trained.h5')"
   ]
  },
  {
   "cell_type": "markdown",
   "metadata": {},
   "source": [
    "In this activity, we have assembled a complete deep learning system: from data to prediction. The model created in this activity need a number of improvements before it can be considered useful. However, it serves as a great starting point from which we will continuously improve."
   ]
  },
  {
   "cell_type": "code",
   "execution_count": 17,
   "metadata": {},
   "outputs": [
    {
     "data": {
      "text/plain": [
       "array([[[ 0.        ,  0.00716262,  0.00453478, -0.00209297,\n",
       "          0.06520779,  0.05399874,  0.04092928]],\n",
       "\n",
       "       [[ 0.        ,  0.00098216, -0.02745597, -0.03486685,\n",
       "         -0.03946517, -0.18674524, -0.13493605]],\n",
       "\n",
       "       [[ 0.        ,  0.01273869, -0.00562386,  0.09921528,\n",
       "          0.07313628,  0.00049699,  0.01357573]],\n",
       "\n",
       "       [[ 0.        , -0.0278929 , -0.02685063, -0.01985259,\n",
       "         -0.05628211, -0.058317  , -0.06134452]],\n",
       "\n",
       "       [[ 0.        ,  0.01163327,  0.01540255,  0.00319983,\n",
       "          0.05645795,  0.04821433,  0.02101581]],\n",
       "\n",
       "       [[ 0.        , -0.00841697, -0.00156657,  0.01335564,\n",
       "          0.00804524,  0.0202857 ,  0.04046519]],\n",
       "\n",
       "       [[ 0.        , -0.01728753,  0.00063846,  0.02232154,\n",
       "          0.03717801,  0.03329814,  0.07349655]],\n",
       "\n",
       "       [[ 0.        , -0.00239289, -0.0411577 , -0.03156335,\n",
       "         -0.03249772, -0.01515497, -0.01431176]],\n",
       "\n",
       "       [[ 0.        ,  0.00968858,  0.00373702, -0.02193772,\n",
       "         -0.02733564, -0.05204152, -0.07596309]],\n",
       "\n",
       "       [[ 0.        ,  0.0162125 ,  0.01535405,  0.01753697,\n",
       "          0.02310466,  0.03428908,  0.00959015]],\n",
       "\n",
       "       [[ 0.        ,  0.00574796,  0.00668985,  0.00712457,\n",
       "          0.01584311, -0.01089214, -0.00874269]],\n",
       "\n",
       "       [[ 0.        , -0.00106344,  0.01048943,  0.01036858,\n",
       "          0.00638066,  0.00829003,  0.01012689]],\n",
       "\n",
       "       [[ 0.        , -0.00592839, -0.02399475, -0.02797825,\n",
       "         -0.02350267, -0.02062049, -0.01380167]],\n",
       "\n",
       "       [[ 0.        ,  0.00128297,  0.00743645,  0.00596341,\n",
       "          0.00439534, -0.00130672, -0.00354003]],\n",
       "\n",
       "       [[ 0.        ,  0.00218237,  0.00861087,  0.00514755,\n",
       "          0.00645223,  0.01933295,  0.021373  ]],\n",
       "\n",
       "       [[ 0.        ,  0.00278428,  0.0189752 ,  0.0327328 ,\n",
       "          0.05154422,  0.04291062,  0.05353299]],\n",
       "\n",
       "       [[ 0.        ,  0.00625872,  0.01642097, -0.03024686,\n",
       "         -0.02082606, -0.00754536, -0.02233077]],\n",
       "\n",
       "       [[ 0.        , -0.01595556, -0.0034965 , -0.01141896,\n",
       "         -0.00863061,  0.01708418,  0.01473843]],\n",
       "\n",
       "       [[ 0.        ,  0.00420892, -0.01670483, -0.01269218,\n",
       "         -0.00824338, -0.00628067, -0.00628067]],\n",
       "\n",
       "       [[ 0.        , -0.00745241, -0.00828289, -0.0064471 ,\n",
       "         -0.04121774, -0.03254147, -0.03142689]],\n",
       "\n",
       "       [[ 0.        ,  0.01099426,  0.01515979,  0.0233998 ,\n",
       "          0.03200401,  0.07771101,  0.20650096]],\n",
       "\n",
       "       [[ 0.        ,  0.01449936,  0.0098056 ,  0.02031431,\n",
       "          0.02230964,  0.08163731,  0.0883644 ]],\n",
       "\n",
       "       [[ 0.        ,  0.01836586,  0.00281749,  0.01158301,\n",
       "         -0.00060872,  0.00433059,  0.05521931]],\n",
       "\n",
       "       [[ 0.        ,  0.04696929,  0.01899581,  0.03223937,\n",
       "          0.13902018,  0.11315735,  0.12403758]],\n",
       "\n",
       "       [[ 0.        , -0.03476132, -0.12717013, -0.21951347,\n",
       "         -0.183037  , -0.12893765, -0.12917332]],\n",
       "\n",
       "       [[ 0.        ,  0.04115226,  0.02801214,  0.01671513,\n",
       "          0.06986351,  0.07456663,  0.11810223]],\n",
       "\n",
       "       [[ 0.        ,  0.03795585,  0.01817326,  0.02834543,\n",
       "         -0.02748004,  0.01193332, -0.0116904 ]],\n",
       "\n",
       "       [[ 0.        , -0.00261796,  0.02339226,  0.00786929,\n",
       "          0.01342861,  0.02139029,  0.01757115]],\n",
       "\n",
       "       [[ 0.        , -0.00934566, -0.0097136 , -0.02028081,\n",
       "         -0.02126689, -0.04244547, -0.03517499]],\n",
       "\n",
       "       [[ 0.        , -0.01085773, -0.01436608, -0.01047968,\n",
       "         -0.00945137, -0.00648742, -0.00942112]],\n",
       "\n",
       "       [[ 0.        , -0.02947109, -0.12359928, -0.0933598 ,\n",
       "         -0.07426202, -0.07946469, -0.05907024]],\n",
       "\n",
       "       [[ 0.        , -0.00276705, -0.00825052, -0.00099546,\n",
       "         -0.00602338, -0.00865545, -0.01197928]],\n",
       "\n",
       "       [[ 0.        , -0.005662  ,  0.012218  ,  0.00482059,\n",
       "          0.00674882,  0.00904517,  0.01968552]],\n",
       "\n",
       "       [[ 0.        ,  0.00935817,  0.00361253, -0.00194389,\n",
       "         -0.0061069 , -0.00285562, -0.01954207]],\n",
       "\n",
       "       [[ 0.        ,  0.00034849,  0.00625534,  0.0027182 ,\n",
       "         -0.00280532,  0.00284017,  0.04234113]],\n",
       "\n",
       "       [[ 0.        , -0.00335179,  0.00297389,  0.00971033,\n",
       "          0.02906528,  0.02338038,  0.02444835]],\n",
       "\n",
       "       [[ 0.        ,  0.00250527,  0.00415348,  0.0065269 ,\n",
       "          0.00070873,  0.00041205, -0.00121967]],\n",
       "\n",
       "       [[ 0.        , -0.0010494 , -0.00255792, -0.0208569 ,\n",
       "         -0.02225064, -0.01152705, -0.01187138]],\n",
       "\n",
       "       [[ 0.        ,  0.01200007,  0.00888771,  0.00649102,\n",
       "          0.00808881,  0.01482949,  0.02188639]],\n",
       "\n",
       "       [[ 0.        ,  0.00202983, -0.0011295 ,  0.00265187,\n",
       "          0.00348672,  0.01019824,  0.01345578]],\n",
       "\n",
       "       [[ 0.        ,  0.00363194,  0.03943251,  0.03152006,\n",
       "          0.03249291,  0.03831374,  0.03550872]],\n",
       "\n",
       "       [[ 0.        , -0.00380281, -0.00571981, -0.01731528,\n",
       "         -0.01678537, -0.01371507,  0.02440659]],\n",
       "\n",
       "       [[ 0.        , -0.00503752,  0.00079139,  0.0323101 ,\n",
       "          0.0475444 ,  0.04958376,  0.08737273]],\n",
       "\n",
       "       [[ 0.        , -0.00126806,  0.03979426,  0.05552389,\n",
       "         -0.01875018,  0.0019662 ,  0.00222267]],\n",
       "\n",
       "       [[ 0.        , -0.01179166, -0.00234709,  0.01651394,\n",
       "          0.00563582,  0.00687261, -0.00909321]],\n",
       "\n",
       "       [[ 0.        ,  0.00425908,  0.01366038,  0.06006866,\n",
       "          0.05548196,  0.07059527,  0.07063801]],\n",
       "\n",
       "       [[ 0.        ,  0.01124441,  0.0277964 ,  0.01854917,\n",
       "          0.01266706,  0.01452745,  0.00595051]],\n",
       "\n",
       "       [[ 0.        ,  0.00516372,  0.00487685,  0.01866044,\n",
       "          0.03379643,  0.06271601,  0.05344043]],\n",
       "\n",
       "       [[ 0.        , -0.01960278, -0.01246979, -0.00741727,\n",
       "         -0.00395415, -0.00139558,  0.00100792]],\n",
       "\n",
       "       [[ 0.        ,  0.01345926,  0.01406987,  0.01526509,\n",
       "          0.01086095,  0.0197212 ,  0.02741221]],\n",
       "\n",
       "       [[ 0.        ,  0.00275764,  0.01309248,  0.05534262,\n",
       "          0.09362074,  0.16628085,  0.13698405]],\n",
       "\n",
       "       [[ 0.        ,  0.01275413,  0.04130867,  0.08897766,\n",
       "          0.08627731,  0.07259702,  0.07538664]],\n",
       "\n",
       "       [[ 0.        ,  0.02345918,  0.04558613,  0.15666162,\n",
       "          0.01507518, -0.09629081, -0.08989012]],\n",
       "\n",
       "       [[ 0.        , -0.00918569, -0.00386304, -0.14644425,\n",
       "         -0.11673617, -0.09571993, -0.10183275]],\n",
       "\n",
       "       [[ 0.        ,  0.01183986,  0.10481869,  0.07887564,\n",
       "          0.09402531,  0.08910927,  0.12167194]],\n",
       "\n",
       "       [[ 0.        , -0.00395817, -0.03458531, -0.02501433,\n",
       "         -0.00765679, -0.00532082, -0.00333092]],\n",
       "\n",
       "       [[ 0.        ,  0.00095704,  0.05535617,  0.07560631,\n",
       "          0.10038064,  0.12007613,  0.13420337]],\n",
       "\n",
       "       [[ 0.        ,  0.01052232,  0.03310491,  0.03477914,\n",
       "         -0.03208285, -0.0376409 , -0.02228084]],\n",
       "\n",
       "       [[ 0.        , -0.00854701,  0.00537441,  0.00830681,\n",
       "          0.02828319,  0.0470686 ,  0.05528533]],\n",
       "\n",
       "       [[ 0.        ,  0.03064311,  0.06434959,  0.06639182,\n",
       "          0.11342056,  0.1200626 ,  0.09158579]],\n",
       "\n",
       "       [[ 0.        ,  0.01267594,  0.01267594,  0.04917611,\n",
       "          0.07364401,  0.09422417,  0.07719705]],\n",
       "\n",
       "       [[ 0.        ,  0.00450628, -0.03439295, -0.09243008,\n",
       "         -0.06205411, -0.11869436, -0.07204527]],\n",
       "\n",
       "       [[ 0.        ,  0.00862958,  0.01524505,  0.0231132 ,\n",
       "         -0.0274853 , -0.09919108, -0.20268876]],\n",
       "\n",
       "       [[ 0.        ,  0.01687019,  0.08083029,  0.01196057,\n",
       "          0.00178444, -0.09570384, -0.06169339]],\n",
       "\n",
       "       [[ 0.        ,  0.08176016,  0.08318765,  0.07576055,\n",
       "          0.06175457,  0.10867564,  0.11768539]],\n",
       "\n",
       "       [[ 0.        ,  0.03778002,  0.02819892,  0.02051408,\n",
       "          0.07304681,  0.06780261,  0.06694067]],\n",
       "\n",
       "       [[ 0.        , -0.00062296,  0.01442919,  0.01052304,\n",
       "         -0.01564986, -0.01711467, -0.01292229]],\n",
       "\n",
       "       [[ 0.        ,  0.0092735 ,  0.02428695,  0.02312036,\n",
       "          0.03900451,  0.03306169,  0.04122779]],\n",
       "\n",
       "       [[ 0.        ,  0.03556962,  0.0482766 ,  0.06119068,\n",
       "          0.09154994,  0.09051449,  0.09491306]],\n",
       "\n",
       "       [[ 0.        ,  0.05468547,  0.0778476 ,  0.10549822,\n",
       "          0.14079784,  0.15398883,  0.1713122 ]],\n",
       "\n",
       "       [[ 0.        ,  0.07931309,  0.09936056,  0.11925772,\n",
       "          0.15773685,  0.07987048,  0.13039312]],\n",
       "\n",
       "       [[ 0.        , -0.03896269, -0.04116291,  0.01668408,\n",
       "          0.0440818 ,  0.09884406,  0.15247856]],\n",
       "\n",
       "       [[ 0.        ,  0.06476582,  0.13679208,  0.19715853,\n",
       "          0.12922791,  0.07898295, -0.00114149]],\n",
       "\n",
       "       [[ 0.        ,  0.04629836,  0.00912422,  0.0605854 ,\n",
       "          0.11693107,  0.15435105,  0.16678263]],\n",
       "\n",
       "       [[ 0.        ,  0.06967087,  0.13989514,  0.08772558,\n",
       "          0.11697143,  0.12421322,  0.1735402 ]],\n",
       "\n",
       "       [[ 0.        , -0.10090227, -0.08150136, -0.15271237,\n",
       "         -0.16683964, -0.1485915 , -0.10216997]],\n",
       "\n",
       "       [[ 0.        ,  0.01621087,  0.06808487,  0.05525666,\n",
       "          0.06165703,  0.07715762,  0.02371394]]])"
      ]
     },
     "execution_count": 17,
     "metadata": {},
     "output_type": "execute_result"
    }
   ],
   "source": [
    "data"
   ]
  },
  {
   "cell_type": "code",
   "execution_count": null,
   "metadata": {},
   "outputs": [],
   "source": []
  }
 ],
 "metadata": {
  "kernelspec": {
   "display_name": "Python 3",
   "language": "python",
   "name": "python3"
  },
  "language_info": {
   "codemirror_mode": {
    "name": "ipython",
    "version": 3
   },
   "file_extension": ".py",
   "mimetype": "text/x-python",
   "name": "python",
   "nbconvert_exporter": "python",
   "pygments_lexer": "ipython3",
   "version": "3.8.3"
  }
 },
 "nbformat": 4,
 "nbformat_minor": 2
}
