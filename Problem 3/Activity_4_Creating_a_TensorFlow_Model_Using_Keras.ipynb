{
 "cells": [
  {
   "cell_type": "markdown",
   "metadata": {},
   "source": [
    "# Activity 4: Creating a TensorFlow Model using Keras\n",
    "In this notebook we design and compile a deep learning model using Keras as an interface to TensorFlow. We will continue to modify this model in our next lessons and activities by experimenting with different optimization techniques. However, the essential components of the model are entirely designed in this notebook."
   ]
  },
  {
   "cell_type": "markdown",
   "metadata": {},
   "source": [
    "## Building a Model"
   ]
  },
  {
   "cell_type": "code",
   "execution_count": 4,
   "metadata": {},
   "outputs": [
    {
     "name": "stdout",
     "output_type": "stream",
     "text": [
      "Collecting tensorflow==2.3.0\n",
      "  Using cached tensorflow-2.3.0-cp38-cp38-manylinux2010_x86_64.whl (320.5 MB)\n",
      "Requirement already satisfied: grpcio>=1.8.6 in /home/darkstarp/anaconda3/lib/python3.8/site-packages (from tensorflow==2.3.0) (1.32.0)\n",
      "Collecting tensorboard<3,>=2.3.0\n",
      "  Downloading tensorboard-2.4.0-py3-none-any.whl (10.6 MB)\n",
      "\u001b[K     |████████████████████████████████| 10.6 MB 79 kB/s  eta 0:00:01\n",
      "\u001b[?25hRequirement already satisfied: h5py<2.11.0,>=2.10.0 in /home/darkstarp/anaconda3/lib/python3.8/site-packages (from tensorflow==2.3.0) (2.10.0)\n",
      "Collecting tensorflow-estimator<2.4.0,>=2.3.0\n",
      "  Using cached tensorflow_estimator-2.3.0-py2.py3-none-any.whl (459 kB)\n",
      "Requirement already satisfied: termcolor>=1.1.0 in /home/darkstarp/anaconda3/lib/python3.8/site-packages (from tensorflow==2.3.0) (1.1.0)\n",
      "Requirement already satisfied: gast==0.3.3 in /home/darkstarp/anaconda3/lib/python3.8/site-packages (from tensorflow==2.3.0) (0.3.3)\n",
      "Requirement already satisfied: keras-preprocessing<1.2,>=1.1.1 in /home/darkstarp/anaconda3/lib/python3.8/site-packages (from tensorflow==2.3.0) (1.1.2)\n",
      "Requirement already satisfied: google-pasta>=0.1.8 in /home/darkstarp/anaconda3/lib/python3.8/site-packages (from tensorflow==2.3.0) (0.2.0)\n",
      "Requirement already satisfied: opt-einsum>=2.3.2 in /home/darkstarp/anaconda3/lib/python3.8/site-packages (from tensorflow==2.3.0) (3.3.0)\n",
      "Requirement already satisfied: scipy==1.4.1 in /home/darkstarp/anaconda3/lib/python3.8/site-packages (from tensorflow==2.3.0) (1.4.1)\n",
      "Requirement already satisfied: six>=1.12.0 in /home/darkstarp/anaconda3/lib/python3.8/site-packages (from tensorflow==2.3.0) (1.15.0)\n",
      "Requirement already satisfied: wrapt>=1.11.1 in /home/darkstarp/anaconda3/lib/python3.8/site-packages (from tensorflow==2.3.0) (1.11.2)\n",
      "Requirement already satisfied: absl-py>=0.7.0 in /home/darkstarp/anaconda3/lib/python3.8/site-packages (from tensorflow==2.3.0) (0.10.0)\n",
      "Requirement already satisfied: astunparse==1.6.3 in /home/darkstarp/anaconda3/lib/python3.8/site-packages (from tensorflow==2.3.0) (1.6.3)\n",
      "Requirement already satisfied: numpy<1.19.0,>=1.16.0 in /home/darkstarp/anaconda3/lib/python3.8/site-packages (from tensorflow==2.3.0) (1.18.5)\n",
      "Requirement already satisfied: wheel>=0.26 in /home/darkstarp/anaconda3/lib/python3.8/site-packages (from tensorflow==2.3.0) (0.34.2)\n",
      "Requirement already satisfied: protobuf>=3.9.2 in /home/darkstarp/anaconda3/lib/python3.8/site-packages (from tensorflow==2.3.0) (3.13.0)\n",
      "Requirement already satisfied: setuptools>=41.0.0 in /home/darkstarp/anaconda3/lib/python3.8/site-packages (from tensorboard<3,>=2.3.0->tensorflow==2.3.0) (49.2.0.post20200714)\n",
      "Requirement already satisfied: tensorboard-plugin-wit>=1.6.0 in /home/darkstarp/anaconda3/lib/python3.8/site-packages (from tensorboard<3,>=2.3.0->tensorflow==2.3.0) (1.7.0)\n",
      "Requirement already satisfied: werkzeug>=0.11.15 in /home/darkstarp/anaconda3/lib/python3.8/site-packages (from tensorboard<3,>=2.3.0->tensorflow==2.3.0) (1.0.1)\n",
      "Requirement already satisfied: google-auth-oauthlib<0.5,>=0.4.1 in /home/darkstarp/anaconda3/lib/python3.8/site-packages (from tensorboard<3,>=2.3.0->tensorflow==2.3.0) (0.4.1)\n",
      "Requirement already satisfied: markdown>=2.6.8 in /home/darkstarp/anaconda3/lib/python3.8/site-packages (from tensorboard<3,>=2.3.0->tensorflow==2.3.0) (3.2.2)\n",
      "Requirement already satisfied: google-auth<2,>=1.6.3 in /home/darkstarp/anaconda3/lib/python3.8/site-packages (from tensorboard<3,>=2.3.0->tensorflow==2.3.0) (1.21.2)\n",
      "Requirement already satisfied: requests<3,>=2.21.0 in /home/darkstarp/anaconda3/lib/python3.8/site-packages (from tensorboard<3,>=2.3.0->tensorflow==2.3.0) (2.24.0)\n",
      "Requirement already satisfied: requests-oauthlib>=0.7.0 in /home/darkstarp/anaconda3/lib/python3.8/site-packages (from google-auth-oauthlib<0.5,>=0.4.1->tensorboard<3,>=2.3.0->tensorflow==2.3.0) (1.3.0)\n",
      "Requirement already satisfied: pyasn1-modules>=0.2.1 in /home/darkstarp/anaconda3/lib/python3.8/site-packages (from google-auth<2,>=1.6.3->tensorboard<3,>=2.3.0->tensorflow==2.3.0) (0.2.8)\n",
      "Requirement already satisfied: rsa<5,>=3.1.4; python_version >= \"3.5\" in /home/darkstarp/anaconda3/lib/python3.8/site-packages (from google-auth<2,>=1.6.3->tensorboard<3,>=2.3.0->tensorflow==2.3.0) (4.6)\n",
      "Requirement already satisfied: cachetools<5.0,>=2.0.0 in /home/darkstarp/anaconda3/lib/python3.8/site-packages (from google-auth<2,>=1.6.3->tensorboard<3,>=2.3.0->tensorflow==2.3.0) (4.1.1)\n",
      "Requirement already satisfied: certifi>=2017.4.17 in /home/darkstarp/anaconda3/lib/python3.8/site-packages (from requests<3,>=2.21.0->tensorboard<3,>=2.3.0->tensorflow==2.3.0) (2020.6.20)\n",
      "Requirement already satisfied: urllib3!=1.25.0,!=1.25.1,<1.26,>=1.21.1 in /home/darkstarp/anaconda3/lib/python3.8/site-packages (from requests<3,>=2.21.0->tensorboard<3,>=2.3.0->tensorflow==2.3.0) (1.25.9)\n",
      "Requirement already satisfied: idna<3,>=2.5 in /home/darkstarp/anaconda3/lib/python3.8/site-packages (from requests<3,>=2.21.0->tensorboard<3,>=2.3.0->tensorflow==2.3.0) (2.10)\n",
      "Requirement already satisfied: chardet<4,>=3.0.2 in /home/darkstarp/anaconda3/lib/python3.8/site-packages (from requests<3,>=2.21.0->tensorboard<3,>=2.3.0->tensorflow==2.3.0) (3.0.4)\n",
      "Requirement already satisfied: oauthlib>=3.0.0 in /home/darkstarp/anaconda3/lib/python3.8/site-packages (from requests-oauthlib>=0.7.0->google-auth-oauthlib<0.5,>=0.4.1->tensorboard<3,>=2.3.0->tensorflow==2.3.0) (3.1.0)\n",
      "Requirement already satisfied: pyasn1<0.5.0,>=0.4.6 in /home/darkstarp/anaconda3/lib/python3.8/site-packages (from pyasn1-modules>=0.2.1->google-auth<2,>=1.6.3->tensorboard<3,>=2.3.0->tensorflow==2.3.0) (0.4.8)\n",
      "Installing collected packages: tensorboard, tensorflow-estimator, tensorflow\n",
      "  Attempting uninstall: tensorboard\n",
      "    Found existing installation: tensorboard 2.1.1\n",
      "    Uninstalling tensorboard-2.1.1:\n",
      "      Successfully uninstalled tensorboard-2.1.1\n",
      "  Attempting uninstall: tensorflow-estimator\n",
      "    Found existing installation: tensorflow-estimator 2.2.0\n",
      "    Uninstalling tensorflow-estimator-2.2.0:\n",
      "      Successfully uninstalled tensorflow-estimator-2.2.0\n",
      "  Attempting uninstall: tensorflow\n",
      "    Found existing installation: tensorflow 2.2.0rc1\n",
      "    Uninstalling tensorflow-2.2.0rc1:\n",
      "      Successfully uninstalled tensorflow-2.2.0rc1\n",
      "Successfully installed tensorboard-2.4.0 tensorflow-2.3.0 tensorflow-estimator-2.3.0\n",
      "Note: you may need to restart the kernel to use updated packages.\n"
     ]
    }
   ],
   "source": [
    "pip install tensorflow==2.3.0"
   ]
  },
  {
   "cell_type": "code",
   "execution_count": 5,
   "metadata": {},
   "outputs": [
    {
     "data": {
      "application/javascript": [
       "IPython.notebook.set_autosave_interval(5000)"
      ]
     },
     "metadata": {},
     "output_type": "display_data"
    },
    {
     "name": "stdout",
     "output_type": "stream",
     "text": [
      "Autosaving every 5 seconds\n"
     ]
    }
   ],
   "source": [
    "%autosave 5\n",
    "\n",
    "from keras.models import Sequential\n",
    "from keras.layers.recurrent import LSTM\n",
    "from keras.layers.core import Dense, Activation"
   ]
  },
  {
   "cell_type": "code",
   "execution_count": 6,
   "metadata": {
    "eid": "90e207"
   },
   "outputs": [],
   "source": [
    "#  TASK:\n",
    "#  Define `period_length`\n",
    "period_length=8\n",
    "#  TASK:\n",
    "#  Define `number_of_periods`\n",
    "number_of_periods=70"
   ]
  },
  {
   "cell_type": "code",
   "execution_count": 7,
   "metadata": {},
   "outputs": [],
   "source": [
    "def build_model(period_length, number_of_periods, batch_size=1):\n",
    "    \"\"\"Build an LSTM model using Keras.\n",
    "\n",
    "    Parameters\n",
    "    ----------\n",
    "    period_length: int\n",
    "        The size of each observation used as input.\n",
    "\n",
    "    number_of_periods: int\n",
    "        The number of periods available in the\n",
    "        dataset.\n",
    "\n",
    "    batch_size: int\n",
    "        The size of the batch used in each training\n",
    "        period.\n",
    "\n",
    "    Returns\n",
    "    -------\n",
    "    model: Keras model\n",
    "        Compiled Keras model that can be trained\n",
    "        and stored in disk.\n",
    "    \"\"\"\n",
    "    model = Sequential()\n",
    "    model.add(LSTM(\n",
    "        units=period_length,\n",
    "        batch_input_shape=(batch_size, number_of_periods, period_length),\n",
    "        input_shape=(number_of_periods, period_length),\n",
    "        return_sequences=False, stateful=False))\n",
    "\n",
    "    model.add(Dense(units=period_length))\n",
    "    model.add(Activation(\"linear\"))\n",
    "\n",
    "    model.compile(loss=\"mse\", optimizer=\"rmsprop\")\n",
    "\n",
    "    return model"
   ]
  },
  {
   "cell_type": "markdown",
   "metadata": {},
   "source": [
    "The steps above compile the LSTM model as TensorFlow computation graph. We can now train that model using our train and evaluate its results with our test set."
   ]
  },
  {
   "cell_type": "markdown",
   "metadata": {},
   "source": [
    "## Saving Model"
   ]
  },
  {
   "cell_type": "code",
   "execution_count": 8,
   "metadata": {},
   "outputs": [],
   "source": [
    "model = build_model(period_length=period_length, number_of_periods=number_of_periods)"
   ]
  },
  {
   "cell_type": "code",
   "execution_count": 9,
   "metadata": {},
   "outputs": [],
   "source": [
    "model.save('bitcoin_lstm_v0.h5')"
   ]
  },
  {
   "cell_type": "code",
   "execution_count": null,
   "metadata": {},
   "outputs": [],
   "source": []
  }
 ],
 "metadata": {
  "kernelspec": {
   "display_name": "Python 3",
   "language": "python",
   "name": "python3"
  },
  "language_info": {
   "codemirror_mode": {
    "name": "ipython",
    "version": 3
   },
   "file_extension": ".py",
   "mimetype": "text/x-python",
   "name": "python",
   "nbconvert_exporter": "python",
   "pygments_lexer": "ipython3",
   "version": "3.8.3"
  }
 },
 "nbformat": 4,
 "nbformat_minor": 2
}
